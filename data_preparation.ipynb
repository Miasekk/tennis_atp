{
 "cells": [
  {
   "cell_type": "markdown",
   "id": "44dda29b",
   "metadata": {},
   "source": [
    "######## Description of file function"
   ]
  },
  {
   "cell_type": "code",
   "execution_count": 2,
   "id": "e34837b4",
   "metadata": {},
   "outputs": [],
   "source": [
    "######## Import libraries\n",
    "import pandas as pd\n",
    "import numpy as np\n",
    "import csv"
   ]
  },
  {
   "cell_type": "markdown",
   "id": "0fc10623",
   "metadata": {},
   "source": [
    "We will divide working with notebook into two seperate explortations. First of all I will focus on exploration and investigation of atp matches in the main draw of the tournament, as this is main object of interest.\n",
    "\n",
    "At the latter steps we will investig"
   ]
  },
  {
   "cell_type": "markdown",
   "id": "a585af0e",
   "metadata": {},
   "source": [
    "# exploration of data\n"
   ]
  },
  {
   "cell_type": "markdown",
   "id": "c94edb31",
   "metadata": {},
   "source": [
    "#### verification if files have the same column names, letting them to be unioned"
   ]
  },
  {
   "cell_type": "markdown",
   "id": "69d134c2",
   "metadata": {},
   "source": [
    "###### atp_matches columns convergence check"
   ]
  },
  {
   "cell_type": "code",
   "execution_count": 30,
   "id": "1ffa0867",
   "metadata": {},
   "outputs": [],
   "source": [
    "df = pd.read_csv('results/atp_matches_1968.csv')"
   ]
  },
  {
   "cell_type": "code",
   "execution_count": 37,
   "id": "4b4b8c7e",
   "metadata": {},
   "outputs": [],
   "source": [
    "list_of_colums = list(df.columns)"
   ]
  },
  {
   "cell_type": "code",
   "execution_count": 41,
   "id": "ca9accfb",
   "metadata": {},
   "outputs": [],
   "source": [
    "for file in range(1969,2025):\n",
    "    examined_year = pd.read_csv(f\"results/atp_matches_{file}.csv\")\n",
    "    if list_of_colums == list(examined_year.columns):\n",
    "        pass\n",
    "    else:\n",
    "        print(f\"Year = {file} - have different columns\")"
   ]
  },
  {
   "cell_type": "code",
   "execution_count": 42,
   "id": "0fb344e7",
   "metadata": {},
   "outputs": [],
   "source": [
    "# Each File have the same"
   ]
  },
  {
   "cell_type": "code",
   "execution_count": null,
   "id": "f2fb96c4",
   "metadata": {},
   "outputs": [],
   "source": [
    "###### atp_matches columns convergence check with qualification and challenger matches"
   ]
  },
  {
   "cell_type": "code",
   "execution_count": 46,
   "id": "e0e63144",
   "metadata": {},
   "outputs": [],
   "source": [
    "for file in range(1978,2025):\n",
    "    examined_year = pd.read_csv(f\"results/atp_matches_qual_chall_{file}.csv\")\n",
    "    if list_of_colums == list(examined_year.columns):\n",
    "        pass\n",
    "    else:\n",
    "        print(f\"Year = {file} - have different columns\")"
   ]
  },
  {
   "cell_type": "code",
   "execution_count": null,
   "id": "79b0a2dd",
   "metadata": {},
   "outputs": [],
   "source": [
    "# each file have the same column"
   ]
  },
  {
   "cell_type": "code",
   "execution_count": null,
   "id": "09557fb4",
   "metadata": {},
   "outputs": [],
   "source": []
  },
  {
   "cell_type": "code",
   "execution_count": null,
   "id": "058d7f39",
   "metadata": {},
   "outputs": [],
   "source": []
  },
  {
   "cell_type": "code",
   "execution_count": null,
   "id": "81041af2",
   "metadata": {},
   "outputs": [],
   "source": []
  },
  {
   "cell_type": "code",
   "execution_count": null,
   "id": "b9928242",
   "metadata": {},
   "outputs": [],
   "source": []
  },
  {
   "cell_type": "code",
   "execution_count": null,
   "id": "94181129",
   "metadata": {},
   "outputs": [],
   "source": []
  },
  {
   "cell_type": "code",
   "execution_count": null,
   "id": "e69d49f5",
   "metadata": {},
   "outputs": [],
   "source": []
  },
  {
   "cell_type": "code",
   "execution_count": null,
   "id": "9bbda723",
   "metadata": {},
   "outputs": [],
   "source": []
  },
  {
   "cell_type": "code",
   "execution_count": null,
   "id": "5820f264",
   "metadata": {},
   "outputs": [],
   "source": []
  },
  {
   "cell_type": "code",
   "execution_count": null,
   "id": "4127b227",
   "metadata": {},
   "outputs": [],
   "source": []
  },
  {
   "cell_type": "code",
   "execution_count": null,
   "id": "e4fecee0",
   "metadata": {},
   "outputs": [],
   "source": []
  },
  {
   "cell_type": "code",
   "execution_count": null,
   "id": "d5334f7e",
   "metadata": {},
   "outputs": [],
   "source": []
  },
  {
   "cell_type": "code",
   "execution_count": null,
   "id": "5108489c",
   "metadata": {},
   "outputs": [],
   "source": []
  },
  {
   "cell_type": "code",
   "execution_count": null,
   "id": "979e5209",
   "metadata": {},
   "outputs": [],
   "source": []
  },
  {
   "cell_type": "code",
   "execution_count": null,
   "id": "976cce53",
   "metadata": {},
   "outputs": [],
   "source": []
  },
  {
   "cell_type": "code",
   "execution_count": null,
   "id": "745a9f9f",
   "metadata": {},
   "outputs": [],
   "source": []
  },
  {
   "cell_type": "code",
   "execution_count": null,
   "id": "1c47df5e",
   "metadata": {},
   "outputs": [],
   "source": []
  },
  {
   "cell_type": "code",
   "execution_count": null,
   "id": "bf6c7abc",
   "metadata": {},
   "outputs": [],
   "source": []
  },
  {
   "cell_type": "code",
   "execution_count": null,
   "id": "69e9ce82",
   "metadata": {},
   "outputs": [],
   "source": []
  }
 ],
 "metadata": {
  "kernelspec": {
   "display_name": "Python 3 (ipykernel)",
   "language": "python",
   "name": "python3"
  },
  "language_info": {
   "codemirror_mode": {
    "name": "ipython",
    "version": 3
   },
   "file_extension": ".py",
   "mimetype": "text/x-python",
   "name": "python",
   "nbconvert_exporter": "python",
   "pygments_lexer": "ipython3",
   "version": "3.9.18"
  }
 },
 "nbformat": 4,
 "nbformat_minor": 5
}
